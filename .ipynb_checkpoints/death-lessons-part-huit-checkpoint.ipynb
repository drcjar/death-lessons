{
 "cells": [
  {
   "cell_type": "code",
   "execution_count": 72,
   "metadata": {},
   "outputs": [],
   "source": [
    "# putting the contents of a text file into a panda dataframe"
   ]
  },
  {
   "cell_type": "code",
   "execution_count": 73,
   "metadata": {},
   "outputs": [],
   "source": [
    "import pandas as pd"
   ]
  },
  {
   "cell_type": "code",
   "execution_count": 74,
   "metadata": {},
   "outputs": [],
   "source": [
    "df = pd.read_csv('death_lessons_dataframe.csv')"
   ]
  },
  {
   "cell_type": "code",
   "execution_count": 75,
   "metadata": {},
   "outputs": [],
   "source": [
    "# first lets try to do it for one person (and one text fileabs)"
   ]
  },
  {
   "cell_type": "code",
   "execution_count": 13,
   "metadata": {},
   "outputs": [],
   "source": [
    "df = df.head(1)"
   ]
  },
  {
   "cell_type": "code",
   "execution_count": 14,
   "metadata": {},
   "outputs": [
    {
     "data": {
      "text/html": [
       "<div>\n",
       "<style scoped>\n",
       "    .dataframe tbody tr th:only-of-type {\n",
       "        vertical-align: middle;\n",
       "    }\n",
       "\n",
       "    .dataframe tbody tr th {\n",
       "        vertical-align: top;\n",
       "    }\n",
       "\n",
       "    .dataframe thead th {\n",
       "        text-align: right;\n",
       "    }\n",
       "</style>\n",
       "<table border=\"1\" class=\"dataframe\">\n",
       "  <thead>\n",
       "    <tr style=\"text-align: right;\">\n",
       "      <th></th>\n",
       "      <th>person</th>\n",
       "      <th>date_of_report</th>\n",
       "      <th>ref</th>\n",
       "      <th>name_of_deceased</th>\n",
       "      <th>coroner_name</th>\n",
       "      <th>coroner_area</th>\n",
       "      <th>category</th>\n",
       "    </tr>\n",
       "  </thead>\n",
       "  <tbody>\n",
       "    <tr>\n",
       "      <th>0</th>\n",
       "      <td>linda-phillipson</td>\n",
       "      <td>&lt;p&gt;Date of report: 8 September 2020&lt;/p&gt;</td>\n",
       "      <td>&lt;p&gt;Ref: 2020-0172&lt;/p&gt;</td>\n",
       "      <td>&lt;p&gt;Deceased name: Linda Phillipson&lt;/p&gt;</td>\n",
       "      <td>&lt;p&gt;Coroner name: Veronica Hamilton-Deeley&lt;/p&gt;</td>\n",
       "      <td>&lt;p&gt;Coroner Area: Brighton and Hove&lt;/p&gt;</td>\n",
       "      <td>CATEGORY: HOSPITAL DEATH (CLINICAL PROCEDURES ...</td>\n",
       "    </tr>\n",
       "  </tbody>\n",
       "</table>\n",
       "</div>"
      ],
      "text/plain": [
       "             person                           date_of_report  \\\n",
       "0  linda-phillipson  <p>Date of report: 8 September 2020</p>   \n",
       "\n",
       "                     ref                        name_of_deceased  \\\n",
       "0  <p>Ref: 2020-0172</p>  <p>Deceased name: Linda Phillipson</p>   \n",
       "\n",
       "                                    coroner_name  \\\n",
       "0  <p>Coroner name: Veronica Hamilton-Deeley</p>   \n",
       "\n",
       "                             coroner_area  \\\n",
       "0  <p>Coroner Area: Brighton and Hove</p>   \n",
       "\n",
       "                                            category  \n",
       "0  CATEGORY: HOSPITAL DEATH (CLINICAL PROCEDURES ...  "
      ]
     },
     "execution_count": 14,
     "metadata": {},
     "output_type": "execute_result"
    }
   ],
   "source": [
    "df"
   ]
  },
  {
   "cell_type": "code",
   "execution_count": 18,
   "metadata": {},
   "outputs": [],
   "source": [
    "f = \"downloads/Linda-Phillipson-2020-0172_Redacted.pdf.txt\""
   ]
  },
  {
   "cell_type": "code",
   "execution_count": 21,
   "metadata": {},
   "outputs": [],
   "source": [
    "text_reports = {}\n",
    "\n",
    "with open(f, 'r') as reader:\n",
    "    text_reports[f] = reader.read()"
   ]
  },
  {
   "cell_type": "code",
   "execution_count": 23,
   "metadata": {},
   "outputs": [
    {
     "name": "stderr",
     "output_type": "stream",
     "text": [
      "/home/drcjar/anaconda3/envs/dlessons/lib/python3.6/site-packages/ipykernel_launcher.py:1: SettingWithCopyWarning: \n",
      "A value is trying to be set on a copy of a slice from a DataFrame.\n",
      "Try using .loc[row_indexer,col_indexer] = value instead\n",
      "\n",
      "See the caveats in the documentation: https://pandas.pydata.org/pandas-docs/stable/user_guide/indexing.html#returning-a-view-versus-a-copy\n",
      "  \"\"\"Entry point for launching an IPython kernel.\n"
     ]
    }
   ],
   "source": [
    "df['text_report'] = text_reports[f]"
   ]
  },
  {
   "cell_type": "code",
   "execution_count": 24,
   "metadata": {},
   "outputs": [
    {
     "data": {
      "text/html": [
       "<div>\n",
       "<style scoped>\n",
       "    .dataframe tbody tr th:only-of-type {\n",
       "        vertical-align: middle;\n",
       "    }\n",
       "\n",
       "    .dataframe tbody tr th {\n",
       "        vertical-align: top;\n",
       "    }\n",
       "\n",
       "    .dataframe thead th {\n",
       "        text-align: right;\n",
       "    }\n",
       "</style>\n",
       "<table border=\"1\" class=\"dataframe\">\n",
       "  <thead>\n",
       "    <tr style=\"text-align: right;\">\n",
       "      <th></th>\n",
       "      <th>person</th>\n",
       "      <th>date_of_report</th>\n",
       "      <th>ref</th>\n",
       "      <th>name_of_deceased</th>\n",
       "      <th>coroner_name</th>\n",
       "      <th>coroner_area</th>\n",
       "      <th>category</th>\n",
       "      <th>text_report</th>\n",
       "    </tr>\n",
       "  </thead>\n",
       "  <tbody>\n",
       "    <tr>\n",
       "      <th>0</th>\n",
       "      <td>linda-phillipson</td>\n",
       "      <td>&lt;p&gt;Date of report: 8 September 2020&lt;/p&gt;</td>\n",
       "      <td>&lt;p&gt;Ref: 2020-0172&lt;/p&gt;</td>\n",
       "      <td>&lt;p&gt;Deceased name: Linda Phillipson&lt;/p&gt;</td>\n",
       "      <td>&lt;p&gt;Coroner name: Veronica Hamilton-Deeley&lt;/p&gt;</td>\n",
       "      <td>&lt;p&gt;Coroner Area: Brighton and Hove&lt;/p&gt;</td>\n",
       "      <td>CATEGORY: HOSPITAL DEATH (CLINICAL PROCEDURES ...</td>\n",
       "      <td>VERONICA  HAMI LT ON -DEELEY  DL, \\nLLB. \\nHer...</td>\n",
       "    </tr>\n",
       "  </tbody>\n",
       "</table>\n",
       "</div>"
      ],
      "text/plain": [
       "             person                           date_of_report  \\\n",
       "0  linda-phillipson  <p>Date of report: 8 September 2020</p>   \n",
       "\n",
       "                     ref                        name_of_deceased  \\\n",
       "0  <p>Ref: 2020-0172</p>  <p>Deceased name: Linda Phillipson</p>   \n",
       "\n",
       "                                    coroner_name  \\\n",
       "0  <p>Coroner name: Veronica Hamilton-Deeley</p>   \n",
       "\n",
       "                             coroner_area  \\\n",
       "0  <p>Coroner Area: Brighton and Hove</p>   \n",
       "\n",
       "                                            category  \\\n",
       "0  CATEGORY: HOSPITAL DEATH (CLINICAL PROCEDURES ...   \n",
       "\n",
       "                                         text_report  \n",
       "0  VERONICA  HAMI LT ON -DEELEY  DL, \\nLLB. \\nHer...  "
      ]
     },
     "execution_count": 24,
     "metadata": {},
     "output_type": "execute_result"
    }
   ],
   "source": [
    "df"
   ]
  },
  {
   "cell_type": "code",
   "execution_count": null,
   "metadata": {},
   "outputs": [],
   "source": [
    "# steps"
   ]
  },
  {
   "cell_type": "code",
   "execution_count": 27,
   "metadata": {},
   "outputs": [],
   "source": [
    "files = !ls downloads/"
   ]
  },
  {
   "cell_type": "code",
   "execution_count": 39,
   "metadata": {},
   "outputs": [],
   "source": [
    "df1 = pd.DataFrame(files)"
   ]
  },
  {
   "cell_type": "code",
   "execution_count": 41,
   "metadata": {},
   "outputs": [],
   "source": [
    "df1.columns = ['filename']"
   ]
  },
  {
   "cell_type": "code",
   "execution_count": 48,
   "metadata": {},
   "outputs": [],
   "source": [
    "df1['filename_lower'] = df1.filename.str.lower()"
   ]
  },
  {
   "cell_type": "code",
   "execution_count": 54,
   "metadata": {},
   "outputs": [
    {
     "data": {
      "text/html": [
       "<div>\n",
       "<style scoped>\n",
       "    .dataframe tbody tr th:only-of-type {\n",
       "        vertical-align: middle;\n",
       "    }\n",
       "\n",
       "    .dataframe tbody tr th {\n",
       "        vertical-align: top;\n",
       "    }\n",
       "\n",
       "    .dataframe thead th {\n",
       "        text-align: right;\n",
       "    }\n",
       "</style>\n",
       "<table border=\"1\" class=\"dataframe\">\n",
       "  <thead>\n",
       "    <tr style=\"text-align: right;\">\n",
       "      <th></th>\n",
       "      <th>filename</th>\n",
       "      <th>filename_lower</th>\n",
       "    </tr>\n",
       "  </thead>\n",
       "  <tbody>\n",
       "    <tr>\n",
       "      <th>9111</th>\n",
       "      <td>Linda-Phillipson-2020-0172_Redacted.pdf.txt</td>\n",
       "      <td>linda-phillipson-2020-0172_redacted.pdf.txt</td>\n",
       "    </tr>\n",
       "  </tbody>\n",
       "</table>\n",
       "</div>"
      ],
      "text/plain": [
       "                                         filename  \\\n",
       "9111  Linda-Phillipson-2020-0172_Redacted.pdf.txt   \n",
       "\n",
       "                                   filename_lower  \n",
       "9111  linda-phillipson-2020-0172_redacted.pdf.txt  "
      ]
     },
     "execution_count": 54,
     "metadata": {},
     "output_type": "execute_result"
    }
   ],
   "source": [
    "# find person in filename\n",
    "df1[df1['filename_lower'].str.contains('linda-phillipson')] "
   ]
  },
  {
   "cell_type": "code",
   "execution_count": 67,
   "metadata": {},
   "outputs": [
    {
     "name": "stderr",
     "output_type": "stream",
     "text": [
      "/home/drcjar/anaconda3/envs/dlessons/lib/python3.6/site-packages/ipykernel_launcher.py:2: SettingWithCopyWarning: \n",
      "A value is trying to be set on a copy of a slice from a DataFrame.\n",
      "Try using .loc[row_indexer,col_indexer] = value instead\n",
      "\n",
      "See the caveats in the documentation: https://pandas.pydata.org/pandas-docs/stable/user_guide/indexing.html#returning-a-view-versus-a-copy\n",
      "  \n"
     ]
    }
   ],
   "source": [
    "# or find reference in filename\n",
    "df1['ref'] = df1['filename'].str.extract(r'(\\d{4}-\\d{4})') # extract reference if there is one\n",
    "df['ref'] = df['ref'].str.extract(r'(\\d{4}-\\d{4})') # extract reference if there is one"
   ]
  },
  {
   "cell_type": "code",
   "execution_count": 71,
   "metadata": {},
   "outputs": [
    {
     "data": {
      "text/plain": [
       "0    True\n",
       "Name: ref, dtype: bool"
      ]
     },
     "execution_count": 71,
     "metadata": {},
     "output_type": "execute_result"
    }
   ],
   "source": [
    "df.ref.isin(df1['ref'])"
   ]
  }
 ],
 "metadata": {
  "kernelspec": {
   "display_name": "Python 3",
   "language": "python",
   "name": "python3"
  },
  "language_info": {
   "codemirror_mode": {
    "name": "ipython",
    "version": 3
   },
   "file_extension": ".py",
   "mimetype": "text/x-python",
   "name": "python",
   "nbconvert_exporter": "python",
   "pygments_lexer": "ipython3",
   "version": "3.6.12"
  }
 },
 "nbformat": 4,
 "nbformat_minor": 4
}
