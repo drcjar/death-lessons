{
 "cells": [
  {
   "cell_type": "code",
   "execution_count": 1,
   "metadata": {},
   "outputs": [],
   "source": [
    "# putting the contents of a text file into a panda dataframe"
   ]
  },
  {
   "cell_type": "code",
   "execution_count": 2,
   "metadata": {},
   "outputs": [],
   "source": [
    "import pandas as pd"
   ]
  },
  {
   "cell_type": "code",
   "execution_count": 3,
   "metadata": {},
   "outputs": [],
   "source": [
    "df = pd.read_csv('death_lessons_dataframe.csv')"
   ]
  },
  {
   "cell_type": "code",
   "execution_count": 4,
   "metadata": {},
   "outputs": [
    {
     "data": {
      "text/html": [
       "<div>\n",
       "<style scoped>\n",
       "    .dataframe tbody tr th:only-of-type {\n",
       "        vertical-align: middle;\n",
       "    }\n",
       "\n",
       "    .dataframe tbody tr th {\n",
       "        vertical-align: top;\n",
       "    }\n",
       "\n",
       "    .dataframe thead th {\n",
       "        text-align: right;\n",
       "    }\n",
       "</style>\n",
       "<table border=\"1\" class=\"dataframe\">\n",
       "  <thead>\n",
       "    <tr style=\"text-align: right;\">\n",
       "      <th></th>\n",
       "      <th>person</th>\n",
       "      <th>date_of_report</th>\n",
       "      <th>ref</th>\n",
       "      <th>name_of_deceased</th>\n",
       "      <th>coroner_name</th>\n",
       "      <th>coroner_area</th>\n",
       "      <th>category</th>\n",
       "    </tr>\n",
       "  </thead>\n",
       "  <tbody>\n",
       "    <tr>\n",
       "      <th>0</th>\n",
       "      <td>https:www.judiciary.ukprevention-of-future-dea...</td>\n",
       "      <td>&lt;p&gt;Date of report: 01/07/22&lt;/p&gt;</td>\n",
       "      <td>&lt;p&gt;Ref: 2022-0204&lt;/p&gt;</td>\n",
       "      <td>&lt;p&gt;Deceased name: Dominic Noble&lt;/p&gt;</td>\n",
       "      <td>&lt;p&gt;Coroner name: Kevin McLoughlin&lt;/p&gt;</td>\n",
       "      <td>&lt;p&gt;Coroner Area: West Yorkshire (Eastern)&lt;/p&gt;</td>\n",
       "      <td>CATEGORY: SUICIDE (FROM 2015) | POLICE RELATED...</td>\n",
       "    </tr>\n",
       "    <tr>\n",
       "      <th>1</th>\n",
       "      <td>https:www.judiciary.ukprevention-of-future-dea...</td>\n",
       "      <td>&lt;p&gt;Date of report: 01/07/22&lt;/p&gt;</td>\n",
       "      <td>&lt;p&gt;Ref: 2022-0203&lt;/p&gt;</td>\n",
       "      <td>&lt;p&gt;Deceased name: Daniel Xavier&lt;/p&gt;</td>\n",
       "      <td>&lt;p&gt;Coroner name: Graeme Irvine&lt;/p&gt;</td>\n",
       "      <td>&lt;p&gt;Coroner Area: East London&lt;/p&gt;</td>\n",
       "      <td>CATEGORY: HOSPITAL DEATH (CLINICAL PROCEDURES ...</td>\n",
       "    </tr>\n",
       "    <tr>\n",
       "      <th>2</th>\n",
       "      <td>https:www.judiciary.ukprevention-of-future-dea...</td>\n",
       "      <td>&lt;p&gt;Date of report: 01/07/22&lt;/p&gt;</td>\n",
       "      <td>&lt;p&gt;Ref: 2022-0202&lt;/p&gt;</td>\n",
       "      <td>&lt;p&gt;Deceased name: Shona Campbell&lt;/p&gt;</td>\n",
       "      <td>&lt;p&gt;Coroner name: Nigel Meadows&lt;/p&gt;</td>\n",
       "      <td>&lt;p&gt;Coroner Area: Manchester City&lt;/p&gt;</td>\n",
       "      <td>CATEGORY: SUICIDE (FROM 2015) | MENTAL HEALTH ...</td>\n",
       "    </tr>\n",
       "    <tr>\n",
       "      <th>3</th>\n",
       "      <td>https:www.judiciary.ukprevention-of-future-dea...</td>\n",
       "      <td>&lt;p&gt;Date of report: 29/06/22&lt;/p&gt;</td>\n",
       "      <td>&lt;p&gt;Ref: 2022-0201&lt;/p&gt;</td>\n",
       "      <td>&lt;p&gt;Deceased name: Paul Meadows&lt;/p&gt;</td>\n",
       "      <td>&lt;p&gt;Coroner name: Peter Taheri&lt;/p&gt;</td>\n",
       "      <td>&lt;p&gt;Coroner Area: Suffolk&lt;/p&gt;</td>\n",
       "      <td>CATEGORY: ALCOHOL, DRUG AND MEDICATION RELATED...</td>\n",
       "    </tr>\n",
       "    <tr>\n",
       "      <th>4</th>\n",
       "      <td>https:www.judiciary.ukprevention-of-future-dea...</td>\n",
       "      <td>&lt;p&gt;Date of report: 29/06/22&lt;/p&gt;</td>\n",
       "      <td>&lt;p&gt;Ref: 2022-0200&lt;/p&gt;</td>\n",
       "      <td>&lt;p&gt;Deceased name: Louise Bailey&lt;/p&gt;</td>\n",
       "      <td>&lt;p&gt;Coroner name: Jonathan Landau&lt;/p&gt;</td>\n",
       "      <td>&lt;p&gt;Coroner Area: Inner South London&lt;/p&gt;</td>\n",
       "      <td>CATEGORY: ROAD (HIGHWAYS SAFETY) RELATED DEATH...</td>\n",
       "    </tr>\n",
       "  </tbody>\n",
       "</table>\n",
       "</div>"
      ],
      "text/plain": [
       "                                              person  \\\n",
       "0  https:www.judiciary.ukprevention-of-future-dea...   \n",
       "1  https:www.judiciary.ukprevention-of-future-dea...   \n",
       "2  https:www.judiciary.ukprevention-of-future-dea...   \n",
       "3  https:www.judiciary.ukprevention-of-future-dea...   \n",
       "4  https:www.judiciary.ukprevention-of-future-dea...   \n",
       "\n",
       "                    date_of_report                    ref  \\\n",
       "0  <p>Date of report: 01/07/22</p>  <p>Ref: 2022-0204</p>   \n",
       "1  <p>Date of report: 01/07/22</p>  <p>Ref: 2022-0203</p>   \n",
       "2  <p>Date of report: 01/07/22</p>  <p>Ref: 2022-0202</p>   \n",
       "3  <p>Date of report: 29/06/22</p>  <p>Ref: 2022-0201</p>   \n",
       "4  <p>Date of report: 29/06/22</p>  <p>Ref: 2022-0200</p>   \n",
       "\n",
       "                       name_of_deceased  \\\n",
       "0   <p>Deceased name: Dominic Noble</p>   \n",
       "1   <p>Deceased name: Daniel Xavier</p>   \n",
       "2  <p>Deceased name: Shona Campbell</p>   \n",
       "3    <p>Deceased name: Paul Meadows</p>   \n",
       "4   <p>Deceased name: Louise Bailey</p>   \n",
       "\n",
       "                            coroner_name  \\\n",
       "0  <p>Coroner name: Kevin McLoughlin</p>   \n",
       "1     <p>Coroner name: Graeme Irvine</p>   \n",
       "2     <p>Coroner name: Nigel Meadows</p>   \n",
       "3      <p>Coroner name: Peter Taheri</p>   \n",
       "4   <p>Coroner name: Jonathan Landau</p>   \n",
       "\n",
       "                                    coroner_area  \\\n",
       "0  <p>Coroner Area: West Yorkshire (Eastern)</p>   \n",
       "1               <p>Coroner Area: East London</p>   \n",
       "2           <p>Coroner Area: Manchester City</p>   \n",
       "3                   <p>Coroner Area: Suffolk</p>   \n",
       "4        <p>Coroner Area: Inner South London</p>   \n",
       "\n",
       "                                            category  \n",
       "0  CATEGORY: SUICIDE (FROM 2015) | POLICE RELATED...  \n",
       "1  CATEGORY: HOSPITAL DEATH (CLINICAL PROCEDURES ...  \n",
       "2  CATEGORY: SUICIDE (FROM 2015) | MENTAL HEALTH ...  \n",
       "3  CATEGORY: ALCOHOL, DRUG AND MEDICATION RELATED...  \n",
       "4  CATEGORY: ROAD (HIGHWAYS SAFETY) RELATED DEATH...  "
      ]
     },
     "execution_count": 4,
     "metadata": {},
     "output_type": "execute_result"
    }
   ],
   "source": [
    "df.head()"
   ]
  },
  {
   "cell_type": "code",
   "execution_count": 4,
   "metadata": {},
   "outputs": [],
   "source": [
    "files = !ls downloads/"
   ]
  },
  {
   "cell_type": "code",
   "execution_count": 5,
   "metadata": {},
   "outputs": [
    {
     "name": "stdout",
     "output_type": "stream",
     "text": [
      "/media/drcjar/Expansion/death-lessons_old/downloads\n"
     ]
    }
   ],
   "source": [
    "cd downloads"
   ]
  },
  {
   "cell_type": "code",
   "execution_count": null,
   "metadata": {},
   "outputs": [],
   "source": [
    "text_reports = {}\n",
    "\n",
    "for f in files:\n",
    "    try:\n",
    "        with open(f, 'r') as reader:\n",
    "            text_reports[f] = reader.read()\n",
    "    except:\n",
    "        continue"
   ]
  },
  {
   "cell_type": "code",
   "execution_count": null,
   "metadata": {},
   "outputs": [],
   "source": [
    "df1 = pd.DataFrame.from_dict(text_reports, orient='index', columns=['text'])\n",
    "df1 = df1.reset_index()\n",
    "df1.columns = ['filename', 'text']"
   ]
  },
  {
   "cell_type": "code",
   "execution_count": null,
   "metadata": {},
   "outputs": [],
   "source": [
    "# find reference in our dataframe and in our filenames\n",
    "df['ref'] = df['ref'].str.extract(r'(\\d{4}-\\d{4})') # extract reference if there is one\n",
    "df1['ref'] = df1['filename'].str.extract(r'(\\d{4}-\\d{4})') # extract reference if there is one"
   ]
  },
  {
   "cell_type": "code",
   "execution_count": null,
   "metadata": {},
   "outputs": [],
   "source": [
    "df.ref.isnull().value_counts()"
   ]
  },
  {
   "cell_type": "code",
   "execution_count": null,
   "metadata": {},
   "outputs": [],
   "source": [
    "df1.ref.isnull().value_counts()"
   ]
  },
  {
   "cell_type": "code",
   "execution_count": null,
   "metadata": {},
   "outputs": [],
   "source": [
    "# discard nulls for now\n",
    "df = df[~df.ref.isnull()]\n",
    "df1 = df1[~df1.ref.isnull()]"
   ]
  },
  {
   "cell_type": "code",
   "execution_count": null,
   "metadata": {},
   "outputs": [],
   "source": [
    "# merge on ref\n",
    "df = pd.merge(df,df1, on='ref')"
   ]
  },
  {
   "cell_type": "code",
   "execution_count": null,
   "metadata": {},
   "outputs": [],
   "source": [
    "df.ref.isnull().value_counts()"
   ]
  },
  {
   "cell_type": "code",
   "execution_count": null,
   "metadata": {},
   "outputs": [],
   "source": [
    "df['url'] = 'https://www.judiciary.uk/publications/' + df['person'].astype(str) + '/'"
   ]
  },
  {
   "cell_type": "code",
   "execution_count": null,
   "metadata": {},
   "outputs": [],
   "source": [
    "# clean up data (still contains html tags and duplicates) ? use soup.get_text() earlier\n",
    "# decide what to display and how\n",
    "# style with css"
   ]
  },
  {
   "cell_type": "code",
   "execution_count": null,
   "metadata": {},
   "outputs": [],
   "source": [
    "# remove html tags\n",
    "df['date_of_report'] = df['date_of_report'].str.replace('<[^<]+?>', '')\n",
    "df['name_of_deceased'] = df['name_of_deceased'].str.replace('<[^<]+?>', '')\n",
    "df['coroner_name'] = df['coroner_name'].str.replace('<[^<]+?>', '')\n",
    "df['coroner_area'] = df['coroner_area'].str.replace('<[^<]+?>', '')\n",
    "# remove duplicates\n",
    "df = df.drop_duplicates(subset='filename')"
   ]
  },
  {
   "cell_type": "code",
   "execution_count": null,
   "metadata": {},
   "outputs": [],
   "source": [
    "# df.to_json(\"data.json\", lines=True, orient=\"records`\")"
   ]
  },
  {
   "cell_type": "code",
   "execution_count": null,
   "metadata": {},
   "outputs": [],
   "source": [
    "# INVESTIGATION and INQUEST\n",
    "# CIRCUMSTANCES OF THE DEATH \n",
    "# CORONER’S CONCERNS \n",
    "# The MATTERS OF CONCERN are as follows\n",
    "# ACTION SHOULD BE TAKEN "
   ]
  },
  {
   "cell_type": "code",
   "execution_count": null,
   "metadata": {},
   "outputs": [],
   "source": [
    "df['Coroner\\'s report'] = df.text.str.contains(\"INVESTIGATION and INQUEST\")"
   ]
  },
  {
   "cell_type": "code",
   "execution_count": null,
   "metadata": {},
   "outputs": [],
   "source": [
    "df[df['Coroner\\'s report']].text.str.extract('(?s)INVESTIGATION\\sand\\sINQUEST(.*?)CIRCUMSTANCES')"
   ]
  },
  {
   "cell_type": "code",
   "execution_count": null,
   "metadata": {},
   "outputs": [],
   "source": [
    "df['investigation_and_inquest'] = df.text.str.extract('(?s)INVESTIGATION\\sand\\sINQUEST(.*?)CIRCUMSTANCES')"
   ]
  },
  {
   "cell_type": "code",
   "execution_count": null,
   "metadata": {},
   "outputs": [],
   "source": [
    "df.investigation_and_inquest.isnull().value_counts()"
   ]
  },
  {
   "cell_type": "code",
   "execution_count": null,
   "metadata": {},
   "outputs": [],
   "source": [
    "df['Coroner\\'s report'].value_counts()"
   ]
  },
  {
   "cell_type": "code",
   "execution_count": null,
   "metadata": {},
   "outputs": [],
   "source": [
    "# report headers:\n",
    "# INVESTIGATION and INQUEST\n",
    "# CIRCUMSTANCES OF THE DEATH \n",
    "# CORONER’S CONCERNS \n",
    "# The MATTERS OF CONCERN are as follows\n",
    "# ACTION SHOULD BE TAKEN "
   ]
  },
  {
   "cell_type": "code",
   "execution_count": null,
   "metadata": {},
   "outputs": [],
   "source": [
    "df['investigation_and_inquest'] = df.text.str.extract('(?s)INVESTIGATION\\sand\\sINQUEST(.*?)CIRCUMSTANCES')"
   ]
  },
  {
   "cell_type": "code",
   "execution_count": null,
   "metadata": {},
   "outputs": [],
   "source": [
    "df['circumstances_of_death'] = df.text.str.extract('(?s)CIRCUMSTANCES\\sOF\\sTHE\\sDEATH(.*?)CORONER’S\\sCONCERNS')"
   ]
  },
  {
   "cell_type": "code",
   "execution_count": null,
   "metadata": {},
   "outputs": [],
   "source": [
    "df['coroners_concerns'] = df.text.str.extract('(?s)CORONER’S\\sCONCERNS(.*?)The\\sMATTERS\\sOF\\sCONCERN')"
   ]
  },
  {
   "cell_type": "code",
   "execution_count": null,
   "metadata": {},
   "outputs": [],
   "source": [
    "df['matters_of_concern'] = df.text.str.extract('(?s)The\\sMATTERS\\sOF\\sCONCERN(.*?)ACTION\\sSHOULD\\sBE\\sTAKEN')"
   ]
  },
  {
   "cell_type": "code",
   "execution_count": null,
   "metadata": {},
   "outputs": [],
   "source": [
    "df[df['Coroner\\'s report']][['investigation_and_inquest', 'circumstances_of_death', 'coroners_concerns', 'matters_of_concern']].to_csv('extract.csv')"
   ]
  },
  {
   "cell_type": "code",
   "execution_count": null,
   "metadata": {},
   "outputs": [],
   "source": [
    "df[df['Coroner\\'s report']][['investigation_and_inquest', 'circumstances_of_death', 'matters_of_concern', 'url']].dropna().to_csv('extract.csv')"
   ]
  },
  {
   "cell_type": "code",
   "execution_count": null,
   "metadata": {},
   "outputs": [],
   "source": []
  }
 ],
 "metadata": {
  "kernelspec": {
   "display_name": "Python 3",
   "language": "python",
   "name": "python3"
  },
  "language_info": {
   "codemirror_mode": {
    "name": "ipython",
    "version": 3
   },
   "file_extension": ".py",
   "mimetype": "text/x-python",
   "name": "python",
   "nbconvert_exporter": "python",
   "pygments_lexer": "ipython3",
   "version": "3.5.6"
  }
 },
 "nbformat": 4,
 "nbformat_minor": 4
}
