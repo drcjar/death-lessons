{
 "cells": [
  {
   "cell_type": "code",
   "execution_count": null,
   "metadata": {},
   "outputs": [],
   "source": [
    "# putting the contents of a text file into a panda dataframe"
   ]
  },
  {
   "cell_type": "code",
   "execution_count": 2,
   "metadata": {},
   "outputs": [],
   "source": [
    "import pandas as pd"
   ]
  },
  {
   "cell_type": "code",
   "execution_count": 3,
   "metadata": {},
   "outputs": [],
   "source": [
    "df = pd.read_csv('death_lessons_dataframe.csv')"
   ]
  },
  {
   "cell_type": "code",
   "execution_count": 4,
   "metadata": {},
   "outputs": [],
   "source": [
    "files = !ls downloads/"
   ]
  },
  {
   "cell_type": "code",
   "execution_count": 5,
   "metadata": {},
   "outputs": [
    {
     "name": "stdout",
     "output_type": "stream",
     "text": [
      "/media/drcjar/homemedia/dropbox/Dropbox/Documents/death-lessons_old/downloads\n"
     ]
    }
   ],
   "source": [
    "cd downloads"
   ]
  },
  {
   "cell_type": "code",
   "execution_count": 6,
   "metadata": {},
   "outputs": [],
   "source": [
    "text_reports = {}\n",
    "\n",
    "for f in files:\n",
    "    try:\n",
    "        with open(f, 'r') as reader:\n",
    "            text_reports[f] = reader.read()\n",
    "    except:\n",
    "        continue"
   ]
  },
  {
   "cell_type": "code",
   "execution_count": 7,
   "metadata": {},
   "outputs": [],
   "source": [
    "df1 = pd.DataFrame.from_dict(text_reports, orient='index', columns=['text'])\n",
    "df1 = df1.reset_index()\n",
    "df1.columns = ['filename', 'text']"
   ]
  },
  {
   "cell_type": "code",
   "execution_count": 8,
   "metadata": {},
   "outputs": [],
   "source": [
    "# find reference in our dataframe and in our filenames\n",
    "df['ref'] = df['ref'].str.extract(r'(\\d{4}-\\d{4})') # extract reference if there is one\n",
    "df1['ref'] = df1['filename'].str.extract(r'(\\d{4}-\\d{4})') # extract reference if there is one"
   ]
  },
  {
   "cell_type": "code",
   "execution_count": 9,
   "metadata": {},
   "outputs": [
    {
     "data": {
      "text/plain": [
       "False    3054\n",
       "True      117\n",
       "Name: ref, dtype: int64"
      ]
     },
     "execution_count": 9,
     "metadata": {},
     "output_type": "execute_result"
    }
   ],
   "source": [
    "df.ref.isnull().value_counts()"
   ]
  },
  {
   "cell_type": "code",
   "execution_count": 10,
   "metadata": {},
   "outputs": [
    {
     "data": {
      "text/plain": [
       "False    11341\n",
       "True       707\n",
       "Name: ref, dtype: int64"
      ]
     },
     "execution_count": 10,
     "metadata": {},
     "output_type": "execute_result"
    }
   ],
   "source": [
    "df1.ref.isnull().value_counts()"
   ]
  },
  {
   "cell_type": "code",
   "execution_count": 11,
   "metadata": {},
   "outputs": [],
   "source": [
    "# discard nulls for now\n",
    "df = df[~df.ref.isnull()]\n",
    "df1 = df1[~df1.ref.isnull()]"
   ]
  },
  {
   "cell_type": "code",
   "execution_count": 12,
   "metadata": {},
   "outputs": [],
   "source": [
    "# merge on ref\n",
    "df = pd.merge(df,df1, on='ref')"
   ]
  },
  {
   "cell_type": "code",
   "execution_count": 13,
   "metadata": {},
   "outputs": [
    {
     "data": {
      "text/plain": [
       "False    11418\n",
       "Name: ref, dtype: int64"
      ]
     },
     "execution_count": 13,
     "metadata": {},
     "output_type": "execute_result"
    }
   ],
   "source": [
    "df.ref.isnull().value_counts()"
   ]
  },
  {
   "cell_type": "code",
   "execution_count": 19,
   "metadata": {},
   "outputs": [
    {
     "data": {
      "text/html": [
       "<div>\n",
       "<style scoped>\n",
       "    .dataframe tbody tr th:only-of-type {\n",
       "        vertical-align: middle;\n",
       "    }\n",
       "\n",
       "    .dataframe tbody tr th {\n",
       "        vertical-align: top;\n",
       "    }\n",
       "\n",
       "    .dataframe thead th {\n",
       "        text-align: right;\n",
       "    }\n",
       "</style>\n",
       "<table border=\"1\" class=\"dataframe\">\n",
       "  <thead>\n",
       "    <tr style=\"text-align: right;\">\n",
       "      <th></th>\n",
       "      <th>person</th>\n",
       "      <th>date_of_report</th>\n",
       "      <th>ref</th>\n",
       "      <th>name_of_deceased</th>\n",
       "      <th>coroner_name</th>\n",
       "      <th>coroner_area</th>\n",
       "      <th>category</th>\n",
       "      <th>filename</th>\n",
       "      <th>text</th>\n",
       "    </tr>\n",
       "  </thead>\n",
       "  <tbody>\n",
       "    <tr>\n",
       "      <th>0</th>\n",
       "      <td>linda-phillipson</td>\n",
       "      <td>&lt;p&gt;Date of report: 8 September 2020&lt;/p&gt;</td>\n",
       "      <td>2020-0172</td>\n",
       "      <td>&lt;p&gt;Deceased name: Linda Phillipson&lt;/p&gt;</td>\n",
       "      <td>&lt;p&gt;Coroner name: Veronica Hamilton-Deeley&lt;/p&gt;</td>\n",
       "      <td>&lt;p&gt;Coroner Area: Brighton and Hove&lt;/p&gt;</td>\n",
       "      <td>CATEGORY: HOSPITAL DEATH (CLINICAL PROCEDURES ...</td>\n",
       "      <td>Linda-Phillipson-2020-0172_Redacted.pdf.txt</td>\n",
       "      <td>VERONICA  HAMI LT ON -DEELEY  DL, \\nLLB. \\nHer...</td>\n",
       "    </tr>\n",
       "    <tr>\n",
       "      <th>1</th>\n",
       "      <td>peter-howarth</td>\n",
       "      <td>&lt;p&gt;Date of report: 8 September 2020&lt;/p&gt;</td>\n",
       "      <td>2020-0171</td>\n",
       "      <td>&lt;p&gt;Deceased name: Peter Howarth&lt;/p&gt;</td>\n",
       "      <td>&lt;p&gt;Coroner name: Chris Morris&lt;/p&gt;</td>\n",
       "      <td>&lt;p&gt;Coroner Area: Greater Manchester South&lt;/p&gt;</td>\n",
       "      <td>CATEGORY: CARE HOME HEALTH RELATED DEATHS; HOS...</td>\n",
       "      <td>Peter-Howarth-2020-0171_Redacted.pdf.txt</td>\n",
       "      <td>\\ \\n\\nREGULATION 28:  REPORT TO PREVENT FUTURE...</td>\n",
       "    </tr>\n",
       "    <tr>\n",
       "      <th>2</th>\n",
       "      <td>laura-parsons</td>\n",
       "      <td>&lt;p&gt;Date of report: 3 September 2020&lt;/p&gt;</td>\n",
       "      <td>2020-0170</td>\n",
       "      <td>&lt;p&gt;Deceased name: Laura Parsons&lt;/p&gt;</td>\n",
       "      <td>&lt;p&gt;Coroner name: James Thompson&lt;/p&gt;</td>\n",
       "      <td>&lt;p&gt;Coroner Area: County Durham &amp;amp; Darlingto...</td>\n",
       "      <td>CATEGORY: COMMUNITY HEALTHCARE DEATHS</td>\n",
       "      <td>Laura-Parsons-2020-0170-2.pdf.txt</td>\n",
       "      <td>\\n\\n \\n\\n1 \\n\\n2 \\n\\n3 \\n\\n4 \\n\\n \\n \\n \\nREG...</td>\n",
       "    </tr>\n",
       "    <tr>\n",
       "      <th>3</th>\n",
       "      <td>ellie-isaacs</td>\n",
       "      <td>&lt;p&gt;Date of report: 7 September 2020&lt;/p&gt;</td>\n",
       "      <td>2020-0169</td>\n",
       "      <td>&lt;p&gt;Deceased name: Ellie Isaacs&lt;/p&gt;</td>\n",
       "      <td>&lt;p&gt;Coroner name: Nadia Persaud&lt;/p&gt;</td>\n",
       "      <td>&lt;p&gt;Coroner Area: East London&lt;/p&gt;</td>\n",
       "      <td>CATEGORY: ROAD (HIGHWAYS SAFETY) RELATED SAFETY</td>\n",
       "      <td>Ellie-Issacs-2020-0169.pdf.txt</td>\n",
       "      <td>\\n\\nEast London Coroners  \\n\\nMISS N PERSAUD ...</td>\n",
       "    </tr>\n",
       "    <tr>\n",
       "      <th>4</th>\n",
       "      <td>zoe-knight</td>\n",
       "      <td>&lt;p&gt;Date of report: 4 September 2020&lt;/p&gt;</td>\n",
       "      <td>2020-0168</td>\n",
       "      <td>&lt;p&gt;Deceased name: Zoe Knight&lt;/p&gt;</td>\n",
       "      <td>&lt;p&gt;Coroner name: Adrian Farrow&lt;/p&gt;</td>\n",
       "      <td>&lt;p&gt;Coroner Area: South Manchester&lt;/p&gt;</td>\n",
       "      <td>CATEGORY: HOSPITAL DEATH (CLINICAL PROCEDURES ...</td>\n",
       "      <td>Zoe-Knight-2020-0168_Redacted.pdf.txt</td>\n",
       "      <td>REGULATION 28:  REPORT TO PREVENT FUTURE DEATH...</td>\n",
       "    </tr>\n",
       "    <tr>\n",
       "      <th>...</th>\n",
       "      <td>...</td>\n",
       "      <td>...</td>\n",
       "      <td>...</td>\n",
       "      <td>...</td>\n",
       "      <td>...</td>\n",
       "      <td>...</td>\n",
       "      <td>...</td>\n",
       "      <td>...</td>\n",
       "      <td>...</td>\n",
       "    </tr>\n",
       "    <tr>\n",
       "      <th>11413</th>\n",
       "      <td>david-george-white</td>\n",
       "      <td>&lt;p&gt;Date of report: 1 August 2013&lt;/p&gt;</td>\n",
       "      <td>2013-0172</td>\n",
       "      <td>&lt;p&gt;Deceased name: David George White&lt;/p&gt;</td>\n",
       "      <td>&lt;p&gt;Coroners name: M A Beresford&lt;/p&gt;</td>\n",
       "      <td>&lt;p&gt;Coroners Area: South Yorkshire (East)&lt;/p&gt;</td>\n",
       "      <td>CATEGORY: ROAD (HIGHWAYS SAFETY) RELATED DEATHS</td>\n",
       "      <td>White-2013-01721.pdf.txt</td>\n",
       "      <td>MS N J MUNDY \\nH M CORONER \\nSOUTH YORKSHIRE (...</td>\n",
       "    </tr>\n",
       "    <tr>\n",
       "      <th>11414</th>\n",
       "      <td>annie-rose-gibson</td>\n",
       "      <td>&lt;p&gt;Date of report: 1 August 2013&lt;/p&gt;</td>\n",
       "      <td>2013-0171</td>\n",
       "      <td>&lt;p&gt;Deceased name: Annie Rose Gibson&lt;/p&gt;</td>\n",
       "      <td>&lt;p&gt;Coroners name: David Hinchcliff&lt;/p&gt;</td>\n",
       "      <td>&lt;p&gt;Coroners Area: West Yorkshire (East)&lt;/p&gt;</td>\n",
       "      <td>CATEGORY: COMMUNITY HEALTH CARE AND EMERGENCY ...</td>\n",
       "      <td>Gibson-2013-01711_page0.txt</td>\n",
       "      <td>HER MAJESTY’S CORONER\\nfor the county of West ...</td>\n",
       "    </tr>\n",
       "    <tr>\n",
       "      <th>11415</th>\n",
       "      <td>annie-rose-gibson</td>\n",
       "      <td>&lt;p&gt;Date of report: 1 August 2013&lt;/p&gt;</td>\n",
       "      <td>2013-0171</td>\n",
       "      <td>&lt;p&gt;Deceased name: Annie Rose Gibson&lt;/p&gt;</td>\n",
       "      <td>&lt;p&gt;Coroners name: David Hinchcliff&lt;/p&gt;</td>\n",
       "      <td>&lt;p&gt;Coroners Area: West Yorkshire (East)&lt;/p&gt;</td>\n",
       "      <td>CATEGORY: COMMUNITY HEALTH CARE AND EMERGENCY ...</td>\n",
       "      <td>Gibson-2013-01711_page1.txt</td>\n",
       "      <td>a daily basis by her family and home carers fr...</td>\n",
       "    </tr>\n",
       "    <tr>\n",
       "      <th>11416</th>\n",
       "      <td>derek-edward-bartlett-twivey</td>\n",
       "      <td>&lt;p&gt;Date of report: 30 July 2013&lt;/p&gt;</td>\n",
       "      <td>2013-0175</td>\n",
       "      <td>&lt;p&gt;Deceased name: Derek Edward Bartlett Twivey...</td>\n",
       "      <td>&lt;p&gt;Coroners name: Elisabeth Bussey-Jones&lt;/p&gt;</td>\n",
       "      <td>&lt;p&gt;Coroners Area: West Sussex&lt;/p&gt;</td>\n",
       "      <td>CATEGORY: COMMUNITY HEALTH CARE AND EMERGENCY ...</td>\n",
       "      <td>Twivey-2013-0175.pdf.txt</td>\n",
       "      <td>Penelope A Schofield \\nSenior Coroner \\nCounty...</td>\n",
       "    </tr>\n",
       "    <tr>\n",
       "      <th>11417</th>\n",
       "      <td>phillip-pratt</td>\n",
       "      <td>&lt;p&gt;Date of report: 30 July 2013&lt;/p&gt;</td>\n",
       "      <td>2013-0174</td>\n",
       "      <td>&lt;p&gt;Deceased name: Phillip Pratt&lt;/p&gt;</td>\n",
       "      <td>&lt;p&gt;Coroners name: Elisabeth Bussey-Jones&lt;/p&gt;</td>\n",
       "      <td>&lt;p&gt;Coroners Area: West Sussex&lt;/p&gt;</td>\n",
       "      <td>CATEGORY: HOSPITAL DEATH (CLINICAL PROCEDURES ...</td>\n",
       "      <td>Pratt-2013-0174.pdf.txt</td>\n",
       "      <td>Penelope A Schofield \\nSenior Coroner \\nCounty...</td>\n",
       "    </tr>\n",
       "  </tbody>\n",
       "</table>\n",
       "<p>11418 rows × 9 columns</p>\n",
       "</div>"
      ],
      "text/plain": [
       "                             person                           date_of_report  \\\n",
       "0                  linda-phillipson  <p>Date of report: 8 September 2020</p>   \n",
       "1                     peter-howarth  <p>Date of report: 8 September 2020</p>   \n",
       "2                     laura-parsons  <p>Date of report: 3 September 2020</p>   \n",
       "3                      ellie-isaacs  <p>Date of report: 7 September 2020</p>   \n",
       "4                        zoe-knight  <p>Date of report: 4 September 2020</p>   \n",
       "...                             ...                                      ...   \n",
       "11413            david-george-white     <p>Date of report: 1 August 2013</p>   \n",
       "11414             annie-rose-gibson     <p>Date of report: 1 August 2013</p>   \n",
       "11415             annie-rose-gibson     <p>Date of report: 1 August 2013</p>   \n",
       "11416  derek-edward-bartlett-twivey      <p>Date of report: 30 July 2013</p>   \n",
       "11417                 phillip-pratt      <p>Date of report: 30 July 2013</p>   \n",
       "\n",
       "             ref                                   name_of_deceased  \\\n",
       "0      2020-0172             <p>Deceased name: Linda Phillipson</p>   \n",
       "1      2020-0171                <p>Deceased name: Peter Howarth</p>   \n",
       "2      2020-0170                <p>Deceased name: Laura Parsons</p>   \n",
       "3      2020-0169                 <p>Deceased name: Ellie Isaacs</p>   \n",
       "4      2020-0168                   <p>Deceased name: Zoe Knight</p>   \n",
       "...          ...                                                ...   \n",
       "11413  2013-0172           <p>Deceased name: David George White</p>   \n",
       "11414  2013-0171            <p>Deceased name: Annie Rose Gibson</p>   \n",
       "11415  2013-0171            <p>Deceased name: Annie Rose Gibson</p>   \n",
       "11416  2013-0175  <p>Deceased name: Derek Edward Bartlett Twivey...   \n",
       "11417  2013-0174                <p>Deceased name: Phillip Pratt</p>   \n",
       "\n",
       "                                        coroner_name  \\\n",
       "0      <p>Coroner name: Veronica Hamilton-Deeley</p>   \n",
       "1                  <p>Coroner name: Chris Morris</p>   \n",
       "2                <p>Coroner name: James Thompson</p>   \n",
       "3                 <p>Coroner name: Nadia Persaud</p>   \n",
       "4                 <p>Coroner name: Adrian Farrow</p>   \n",
       "...                                              ...   \n",
       "11413            <p>Coroners name: M A Beresford</p>   \n",
       "11414         <p>Coroners name: David Hinchcliff</p>   \n",
       "11415         <p>Coroners name: David Hinchcliff</p>   \n",
       "11416   <p>Coroners name: Elisabeth Bussey-Jones</p>   \n",
       "11417   <p>Coroners name: Elisabeth Bussey-Jones</p>   \n",
       "\n",
       "                                            coroner_area  \\\n",
       "0                 <p>Coroner Area: Brighton and Hove</p>   \n",
       "1          <p>Coroner Area: Greater Manchester South</p>   \n",
       "2      <p>Coroner Area: County Durham &amp; Darlingto...   \n",
       "3                       <p>Coroner Area: East London</p>   \n",
       "4                  <p>Coroner Area: South Manchester</p>   \n",
       "...                                                  ...   \n",
       "11413       <p>Coroners Area: South Yorkshire (East)</p>   \n",
       "11414        <p>Coroners Area: West Yorkshire (East)</p>   \n",
       "11415        <p>Coroners Area: West Yorkshire (East)</p>   \n",
       "11416                  <p>Coroners Area: West Sussex</p>   \n",
       "11417                  <p>Coroners Area: West Sussex</p>   \n",
       "\n",
       "                                                category  \\\n",
       "0      CATEGORY: HOSPITAL DEATH (CLINICAL PROCEDURES ...   \n",
       "1      CATEGORY: CARE HOME HEALTH RELATED DEATHS; HOS...   \n",
       "2                  CATEGORY: COMMUNITY HEALTHCARE DEATHS   \n",
       "3        CATEGORY: ROAD (HIGHWAYS SAFETY) RELATED SAFETY   \n",
       "4      CATEGORY: HOSPITAL DEATH (CLINICAL PROCEDURES ...   \n",
       "...                                                  ...   \n",
       "11413    CATEGORY: ROAD (HIGHWAYS SAFETY) RELATED DEATHS   \n",
       "11414  CATEGORY: COMMUNITY HEALTH CARE AND EMERGENCY ...   \n",
       "11415  CATEGORY: COMMUNITY HEALTH CARE AND EMERGENCY ...   \n",
       "11416  CATEGORY: COMMUNITY HEALTH CARE AND EMERGENCY ...   \n",
       "11417  CATEGORY: HOSPITAL DEATH (CLINICAL PROCEDURES ...   \n",
       "\n",
       "                                          filename  \\\n",
       "0      Linda-Phillipson-2020-0172_Redacted.pdf.txt   \n",
       "1         Peter-Howarth-2020-0171_Redacted.pdf.txt   \n",
       "2                Laura-Parsons-2020-0170-2.pdf.txt   \n",
       "3                   Ellie-Issacs-2020-0169.pdf.txt   \n",
       "4            Zoe-Knight-2020-0168_Redacted.pdf.txt   \n",
       "...                                            ...   \n",
       "11413                     White-2013-01721.pdf.txt   \n",
       "11414                  Gibson-2013-01711_page0.txt   \n",
       "11415                  Gibson-2013-01711_page1.txt   \n",
       "11416                     Twivey-2013-0175.pdf.txt   \n",
       "11417                      Pratt-2013-0174.pdf.txt   \n",
       "\n",
       "                                                    text  \n",
       "0      VERONICA  HAMI LT ON -DEELEY  DL, \\nLLB. \\nHer...  \n",
       "1      \\ \\n\\nREGULATION 28:  REPORT TO PREVENT FUTURE...  \n",
       "2       \\n\\n \\n\\n1 \\n\\n2 \\n\\n3 \\n\\n4 \\n\\n \\n \\n \\nREG...  \n",
       "3       \\n\\nEast London Coroners  \\n\\nMISS N PERSAUD ...  \n",
       "4      REGULATION 28:  REPORT TO PREVENT FUTURE DEATH...  \n",
       "...                                                  ...  \n",
       "11413  MS N J MUNDY \\nH M CORONER \\nSOUTH YORKSHIRE (...  \n",
       "11414  HER MAJESTY’S CORONER\\nfor the county of West ...  \n",
       "11415  a daily basis by her family and home carers fr...  \n",
       "11416  Penelope A Schofield \\nSenior Coroner \\nCounty...  \n",
       "11417  Penelope A Schofield \\nSenior Coroner \\nCounty...  \n",
       "\n",
       "[11418 rows x 9 columns]"
      ]
     },
     "execution_count": 19,
     "metadata": {},
     "output_type": "execute_result"
    }
   ],
   "source": [
    "df"
   ]
  },
  {
   "cell_type": "code",
   "execution_count": 23,
   "metadata": {},
   "outputs": [],
   "source": [
    "df.to_json(\"data.json\", lines=True, orient=\"records\")"
   ]
  }
 ],
 "metadata": {
  "kernelspec": {
   "display_name": "Python 3",
   "language": "python",
   "name": "python3"
  },
  "language_info": {
   "codemirror_mode": {
    "name": "ipython",
    "version": 3
   },
   "file_extension": ".py",
   "mimetype": "text/x-python",
   "name": "python",
   "nbconvert_exporter": "python",
   "pygments_lexer": "ipython3",
   "version": "3.6.12"
  }
 },
 "nbformat": 4,
 "nbformat_minor": 4
}
