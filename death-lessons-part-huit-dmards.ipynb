{
 "cells": [
  {
   "cell_type": "code",
   "execution_count": 2,
   "metadata": {},
   "outputs": [],
   "source": [
    "# putting the contents of a text file into a panda dataframe"
   ]
  },
  {
   "cell_type": "code",
   "execution_count": 3,
   "metadata": {},
   "outputs": [],
   "source": [
    "import pandas as pd"
   ]
  },
  {
   "cell_type": "code",
   "execution_count": 4,
   "metadata": {},
   "outputs": [],
   "source": [
    "df = pd.read_csv('death_lessons_dataframe.csv')"
   ]
  },
  {
   "cell_type": "code",
   "execution_count": 5,
   "metadata": {},
   "outputs": [],
   "source": [
    "files = !ls downloads/"
   ]
  },
  {
   "cell_type": "code",
   "execution_count": 6,
   "metadata": {},
   "outputs": [
    {
     "name": "stdout",
     "output_type": "stream",
     "text": [
      "/media/drcjar/homemedia/dropbox/Dropbox/Documents/death-lessons_old/downloads\n"
     ]
    }
   ],
   "source": [
    "cd downloads"
   ]
  },
  {
   "cell_type": "code",
   "execution_count": 7,
   "metadata": {},
   "outputs": [],
   "source": [
    "text_reports = {}\n",
    "\n",
    "for f in files:\n",
    "    try:\n",
    "        with open(f, 'r') as reader:\n",
    "            text_reports[f] = reader.read()\n",
    "    except:\n",
    "        continue"
   ]
  },
  {
   "cell_type": "code",
   "execution_count": 8,
   "metadata": {},
   "outputs": [],
   "source": [
    "df1 = pd.DataFrame.from_dict(text_reports, orient='index', columns=['text'])\n",
    "df1 = df1.reset_index()\n",
    "df1.columns = ['filename', 'text']"
   ]
  },
  {
   "cell_type": "code",
   "execution_count": 9,
   "metadata": {},
   "outputs": [],
   "source": [
    "# find reference in our dataframe and in our filenames\n",
    "df['ref'] = df['ref'].str.extract(r'(\\d{4}-\\d{4})') # extract reference if there is one\n",
    "df1['ref'] = df1['filename'].str.extract(r'(\\d{4}-\\d{4})') # extract reference if there is one"
   ]
  },
  {
   "cell_type": "code",
   "execution_count": 10,
   "metadata": {},
   "outputs": [
    {
     "data": {
      "text/plain": [
       "False    3054\n",
       "True      117\n",
       "Name: ref, dtype: int64"
      ]
     },
     "execution_count": 10,
     "metadata": {},
     "output_type": "execute_result"
    }
   ],
   "source": [
    "df.ref.isnull().value_counts()"
   ]
  },
  {
   "cell_type": "code",
   "execution_count": 11,
   "metadata": {},
   "outputs": [
    {
     "data": {
      "text/plain": [
       "False    11341\n",
       "True       708\n",
       "Name: ref, dtype: int64"
      ]
     },
     "execution_count": 11,
     "metadata": {},
     "output_type": "execute_result"
    }
   ],
   "source": [
    "df1.ref.isnull().value_counts()"
   ]
  },
  {
   "cell_type": "code",
   "execution_count": 12,
   "metadata": {},
   "outputs": [],
   "source": [
    "# discard nulls for now\n",
    "df = df[~df.ref.isnull()]\n",
    "df1 = df1[~df1.ref.isnull()]"
   ]
  },
  {
   "cell_type": "code",
   "execution_count": 13,
   "metadata": {},
   "outputs": [],
   "source": [
    "# merge on ref\n",
    "df = pd.merge(df,df1, on='ref')"
   ]
  },
  {
   "cell_type": "code",
   "execution_count": 14,
   "metadata": {},
   "outputs": [
    {
     "data": {
      "text/plain": [
       "False    11418\n",
       "Name: ref, dtype: int64"
      ]
     },
     "execution_count": 14,
     "metadata": {},
     "output_type": "execute_result"
    }
   ],
   "source": [
    "df.ref.isnull().value_counts()"
   ]
  },
  {
   "cell_type": "code",
   "execution_count": 15,
   "metadata": {},
   "outputs": [],
   "source": [
    "df['url'] = 'https://www.judiciary.uk/publications/' + df['person'].astype(str) + '/'"
   ]
  },
  {
   "cell_type": "code",
   "execution_count": 19,
   "metadata": {},
   "outputs": [],
   "source": [
    "dmards = [\"methotrexate\",\"sulfasalazine\",\"hydroxychloroquine\",\"leflunomide\",\"azathioprine\",\"abatacept\",\"rituximab\",\"tocilizumab\",\"sarilumab\",\"anakinra\",\"etanercept\",\"adalimumab\",\"infliximab\",\"certolizumab pegol\",\"golimumab\"]"
   ]
  },
  {
   "cell_type": "code",
   "execution_count": 23,
   "metadata": {},
   "outputs": [],
   "source": [
    "dmards_upper = [dmard.upper() for dmard in dmards]"
   ]
  },
  {
   "cell_type": "code",
   "execution_count": 32,
   "metadata": {},
   "outputs": [
    {
     "data": {
      "text/plain": [
       "['METHOTREXATE',\n",
       " 'SULFASALAZINE',\n",
       " 'HYDROXYCHLOROQUINE',\n",
       " 'LEFLUNOMIDE',\n",
       " 'AZATHIOPRINE',\n",
       " 'ABATACEPT',\n",
       " 'RITUXIMAB',\n",
       " 'TOCILIZUMAB',\n",
       " 'SARILUMAB',\n",
       " 'ANAKINRA',\n",
       " 'ETANERCEPT',\n",
       " 'ADALIMUMAB',\n",
       " 'INFLIXIMAB',\n",
       " 'CERTOLIZUMAB PEGOL',\n",
       " 'GOLIMUMAB']"
      ]
     },
     "execution_count": 32,
     "metadata": {},
     "output_type": "execute_result"
    }
   ],
   "source": [
    "dmards_upper"
   ]
  },
  {
   "cell_type": "code",
   "execution_count": 86,
   "metadata": {},
   "outputs": [],
   "source": [
    "df[df['ref'] == \"2014-0017\"].to_csv('testtimes.csv', index=False)"
   ]
  },
  {
   "cell_type": "code",
   "execution_count": null,
   "metadata": {},
   "outputs": [],
   "source": []
  }
 ],
 "metadata": {
  "kernelspec": {
   "display_name": "Python 3",
   "language": "python",
   "name": "python3"
  },
  "language_info": {
   "codemirror_mode": {
    "name": "ipython",
    "version": 3
   },
   "file_extension": ".py",
   "mimetype": "text/x-python",
   "name": "python",
   "nbconvert_exporter": "python",
   "pygments_lexer": "ipython3",
   "version": "3.6.12"
  }
 },
 "nbformat": 4,
 "nbformat_minor": 4
}
