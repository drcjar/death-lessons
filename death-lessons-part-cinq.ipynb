{
 "cells": [
  {
   "cell_type": "code",
   "execution_count": 1,
   "metadata": {},
   "outputs": [],
   "source": [
    "# ocr action for not pdfs"
   ]
  },
  {
   "cell_type": "code",
   "execution_count": 2,
   "metadata": {},
   "outputs": [],
   "source": [
    "# e.g file Bennett-2016-0232.pdf"
   ]
  },
  {
   "cell_type": "code",
   "execution_count": 3,
   "metadata": {},
   "outputs": [],
   "source": [
    "# select pdfs wot weren't scraped by selecting small txt files...\n",
    "\n",
    "# find pdfs that couldn't be made into text (we assume because they're pdfs of pictures..)\n",
    "\n",
    "not_really_txts = []\n",
    "not_really_pdfs = []\n",
    "\n",
    "import os, os.path\n",
    "\n",
    "for root, _, files in os.walk(\"downloads\"):\n",
    "    for f in files:\n",
    "        fullpath = os.path.join(root, f)\n",
    "        if os.path.getsize(fullpath) < 1 * 1024:   #set file size in kb\n",
    "                not_really_txts.append(fullpath)\n",
    "                not_really_pdfs.append(fullpath.replace('.txt',''))\n",
    "          "
   ]
  },
  {
   "cell_type": "code",
   "execution_count": 5,
   "metadata": {},
   "outputs": [
    {
     "name": "stdout",
     "output_type": "stream",
     "text": [
      "Unable to get page count.\n",
      "I/O Error: Couldn't open file 'downloads/2013-0214-Response-by-Lewisham-Greenwich-NHS-Trust_page2': No such file or directory.\n",
      "\n",
      "  Encountered unknown error. Continuing.\n",
      "Unable to get page count.\n",
      "I/O Error: Couldn't open file 'downloads/Hawkins-2014-0425_page2': No such file or directory.\n",
      "\n",
      "  Encountered unknown error. Continuing.\n",
      "Unable to get page count.\n",
      "I/O Error: Couldn't open file 'downloads/2015-0315-Response-by-NHS-England_page2': No such file or directory.\n",
      "\n",
      "  Encountered unknown error. Continuing.\n",
      "Unable to get page count.\n",
      "I/O Error: Couldn't open file 'downloads/Evans-2014-0569_page2': No such file or directory.\n",
      "\n",
      "  Encountered unknown error. Continuing.\n",
      "Unable to get page count.\n",
      "I/O Error: Couldn't open file 'downloads/Grooby-2014-0054_page1': No such file or directory.\n",
      "\n",
      "  Encountered unknown error. Continuing.\n",
      "Unable to get page count.\n",
      "I/O Error: Couldn't open file 'downloads/2015-0185-Response-by-Greater-Manchester-Police-NOMS-SIA_page7': No such file or directory.\n",
      "\n",
      "  Encountered unknown error. Continuing.\n",
      "Unable to get page count.\n",
      "I/O Error: Couldn't open file 'downloads/Elliott-2016-0448_page3': No such file or directory.\n",
      "\n",
      "  Encountered unknown error. Continuing.\n",
      "Unable to get page count.\n",
      "I/O Error: Couldn't open file 'downloads/Mohinudeen-2013-0347_page0': No such file or directory.\n",
      "\n",
      "  Encountered unknown error. Continuing.\n",
      "Unable to get page count.\n",
      "I/O Error: Couldn't open file 'downloads/Evans-2014-0569_page3': No such file or directory.\n",
      "\n",
      "  Encountered unknown error. Continuing.\n",
      "Unable to get page count.\n",
      "I/O Error: Couldn't open file 'downloads/Paul-2014-0338_page2': No such file or directory.\n",
      "\n",
      "  Encountered unknown error. Continuing.\n",
      "Unable to get page count.\n",
      "I/O Error: Couldn't open file 'downloads/Paul-2014-0338_page3': No such file or directory.\n",
      "\n",
      "  Encountered unknown error. Continuing.\n",
      "Unable to get page count.\n",
      "I/O Error: Couldn't open file 'downloads/Beryl-Goode-2017-0246_Redacted_page2': No such file or directory.\n",
      "\n",
      "  Encountered unknown error. Continuing.\n",
      "Unable to get page count.\n",
      "I/O Error: Couldn't open file 'downloads/Lawton-2016-0441_page1': No such file or directory.\n",
      "\n",
      "  Encountered unknown error. Continuing.\n",
      "Unable to get page count.\n",
      "I/O Error: Couldn't open file 'downloads/Mohinudeen-2013-0347_page3': No such file or directory.\n",
      "\n",
      "  Encountered unknown error. Continuing.\n",
      "Unable to get page count.\n",
      "I/O Error: Couldn't open file 'downloads/Bevan-2015-0418_page2': No such file or directory.\n",
      "\n",
      "  Encountered unknown error. Continuing.\n",
      "Unable to get page count.\n",
      "I/O Error: Couldn't open file 'downloads/2015-0240-Response-by-Brighton-and-Sussex-University-Hospitals-NHS-Trust_page2': No such file or directory.\n",
      "\n",
      "  Encountered unknown error. Continuing.\n"
     ]
    }
   ],
   "source": [
    "# have a go at scraping using ocr...\n",
    "# we could probably improve results (lots) if we did some pre-processing with e.g opencv\n",
    "# and some post-processing e.g remove junk, fix spelling etc\n",
    "\n",
    "import pytesseract\n",
    "from pdf2image import convert_from_path\n",
    "\n",
    "pdfs = not_really_pdfs\n",
    "\n",
    "for pdf_path in pdfs:\n",
    "    try:\n",
    "        pages = convert_from_path(pdf_path, 500)\n",
    "\n",
    "        for pageNum,imgBlob in enumerate(pages):\n",
    "            text = pytesseract.image_to_string(imgBlob,lang='eng')\n",
    "\n",
    "            with open(f'{pdf_path[:-4]}_page{pageNum}.txt', 'w') as the_file:\n",
    "                the_file.write(text)\n",
    "    except Exception as inst:\n",
    "        print(inst)\n",
    "        print('  Encountered unknown error. Continuing.')"
   ]
  }
 ],
 "metadata": {
  "kernelspec": {
   "display_name": "Python 3",
   "language": "python",
   "name": "python3"
  },
  "language_info": {
   "codemirror_mode": {
    "name": "ipython",
    "version": 3
   },
   "file_extension": ".py",
   "mimetype": "text/x-python",
   "name": "python",
   "nbconvert_exporter": "python",
   "pygments_lexer": "ipython3",
   "version": "3.6.12"
  }
 },
 "nbformat": 4,
 "nbformat_minor": 4
}
