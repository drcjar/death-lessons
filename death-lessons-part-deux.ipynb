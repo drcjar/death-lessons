{
 "cells": [
  {
   "cell_type": "code",
   "execution_count": 6,
   "metadata": {},
   "outputs": [],
   "source": [
    "# download the pdfs "
   ]
  },
  {
   "cell_type": "code",
   "execution_count": 7,
   "metadata": {},
   "outputs": [],
   "source": [
    "import pandas as pd"
   ]
  },
  {
   "cell_type": "code",
   "execution_count": 8,
   "metadata": {},
   "outputs": [],
   "source": [
    "pdf_locs = pd.read_csv('pdf_urls.csv')"
   ]
  },
  {
   "cell_type": "code",
   "execution_count": 9,
   "metadata": {},
   "outputs": [],
   "source": [
    "pdf_locs = list(pdf_locs['0'])"
   ]
  },
  {
   "cell_type": "code",
   "execution_count": 10,
   "metadata": {},
   "outputs": [],
   "source": [
    "import os.path\n",
    "import urllib.request\n",
    "\n",
    "links = pdf_locs\n",
    "for link in links:\n",
    "    link = link.strip()\n",
    "    name = link.rsplit('/', 1)[-1]\n",
    "    filename = os.path.join('downloads', name)\n",
    "\n",
    "    if not os.path.isfile(filename):\n",
    "        print('Downloading: ' + filename)\n",
    "        try:\n",
    "            urllib.request.urlretrieve(link, filename)\n",
    "        except Exception as inst:\n",
    "            print(inst)\n",
    "            print('  Encountered unknown error. Continuing.')"
   ]
  }
 ],
 "metadata": {
  "kernelspec": {
   "display_name": "Python 3",
   "language": "python",
   "name": "python3"
  }
 },
 "nbformat": 4,
 "nbformat_minor": 2
}
