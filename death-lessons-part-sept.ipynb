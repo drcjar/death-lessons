{
 "cells": [
  {
   "cell_type": "code",
   "execution_count": 1,
   "metadata": {},
   "outputs": [],
   "source": [
    "# putting the contents of a text file into a panda dataframe"
   ]
  },
  {
   "cell_type": "code",
   "execution_count": 2,
   "metadata": {},
   "outputs": [],
   "source": [
    "import pandas as pd"
   ]
  },
  {
   "cell_type": "code",
   "execution_count": 3,
   "metadata": {},
   "outputs": [
    {
     "name": "stdout",
     "output_type": "stream",
     "text": [
      "[Errno 2] No such file or directory: 'death-lessons_old/'\n",
      "/media/drcjar/Expansion/death-lessons_old\n"
     ]
    }
   ],
   "source": [
    "cd death-lessons_old/"
   ]
  },
  {
   "cell_type": "code",
   "execution_count": 4,
   "metadata": {},
   "outputs": [],
   "source": [
    "df = pd.read_csv('death_lessons_dataframe.csv')"
   ]
  },
  {
   "cell_type": "code",
   "execution_count": 5,
   "metadata": {},
   "outputs": [],
   "source": [
    "files = !ls downloads/"
   ]
  },
  {
   "cell_type": "code",
   "execution_count": 6,
   "metadata": {},
   "outputs": [
    {
     "name": "stdout",
     "output_type": "stream",
     "text": [
      "/media/drcjar/Expansion/death-lessons_old/downloads\n"
     ]
    }
   ],
   "source": [
    "cd downloads"
   ]
  },
  {
   "cell_type": "code",
   "execution_count": 7,
   "metadata": {},
   "outputs": [],
   "source": [
    "text_reports = {}\n",
    "\n",
    "for f in files:\n",
    "    try:\n",
    "        with open(f, 'r') as reader:\n",
    "            text_reports[f] = reader.read()\n",
    "    except:\n",
    "        continue"
   ]
  },
  {
   "cell_type": "code",
   "execution_count": 8,
   "metadata": {},
   "outputs": [],
   "source": [
    "df1 = pd.DataFrame.from_dict(text_reports, orient='index', columns=['text'])\n",
    "df1 = df1.reset_index()\n",
    "df1.columns = ['filename', 'text']"
   ]
  },
  {
   "cell_type": "code",
   "execution_count": 9,
   "metadata": {},
   "outputs": [],
   "source": [
    "# find reference in our dataframe and in our filenames\n",
    "df['ref'] = df['ref'].str.extract(r'(\\d{4}-\\d{4})') # extract reference if there is one\n",
    "df1['ref'] = df1['filename'].str.extract(r'(\\d{4}-\\d{4})') # extract reference if there is one"
   ]
  },
  {
   "cell_type": "code",
   "execution_count": 10,
   "metadata": {},
   "outputs": [
    {
     "data": {
      "text/plain": [
       "False    3819\n",
       "True      116\n",
       "Name: ref, dtype: int64"
      ]
     },
     "execution_count": 10,
     "metadata": {},
     "output_type": "execute_result"
    }
   ],
   "source": [
    "df.ref.isnull().value_counts()"
   ]
  },
  {
   "cell_type": "code",
   "execution_count": 11,
   "metadata": {},
   "outputs": [
    {
     "data": {
      "text/plain": [
       "False    19573\n",
       "True      1112\n",
       "Name: ref, dtype: int64"
      ]
     },
     "execution_count": 11,
     "metadata": {},
     "output_type": "execute_result"
    }
   ],
   "source": [
    "df1.ref.isnull().value_counts()"
   ]
  },
  {
   "cell_type": "code",
   "execution_count": 12,
   "metadata": {},
   "outputs": [],
   "source": [
    "# discard nulls for now\n",
    "df = df[~df.ref.isnull()]\n",
    "df1 = df1[~df1.ref.isnull()]"
   ]
  },
  {
   "cell_type": "code",
   "execution_count": 13,
   "metadata": {},
   "outputs": [],
   "source": [
    "# merge on ref\n",
    "df = pd.merge(df,df1, on='ref')"
   ]
  },
  {
   "cell_type": "code",
   "execution_count": 14,
   "metadata": {},
   "outputs": [
    {
     "data": {
      "text/plain": [
       "False    19331\n",
       "Name: ref, dtype: int64"
      ]
     },
     "execution_count": 14,
     "metadata": {},
     "output_type": "execute_result"
    }
   ],
   "source": [
    "df.ref.isnull().value_counts()"
   ]
  },
  {
   "cell_type": "code",
   "execution_count": 15,
   "metadata": {},
   "outputs": [],
   "source": [
    "df['short_name'] = df['name_of_deceased'].str.replace('Deceased name: ','')"
   ]
  },
  {
   "cell_type": "code",
   "execution_count": 16,
   "metadata": {},
   "outputs": [],
   "source": [
    "df['short_name'] = df['short_name'].str.lower()"
   ]
  },
  {
   "cell_type": "code",
   "execution_count": 17,
   "metadata": {},
   "outputs": [],
   "source": [
    "df['short_name'] = df['short_name'].str.replace(' ','-')"
   ]
  },
  {
   "cell_type": "code",
   "execution_count": 18,
   "metadata": {},
   "outputs": [],
   "source": [
    "df['short_name'] = df['short_name'].str.strip()"
   ]
  },
  {
   "cell_type": "code",
   "execution_count": 19,
   "metadata": {},
   "outputs": [
    {
     "data": {
      "text/plain": [
       "0                       <p>dominic-noble</p>\n",
       "1                       <p>dominic-noble</p>\n",
       "2                       <p>daniel-xavier</p>\n",
       "3                      <p>shona-campbell</p>\n",
       "4                        <p>paul-meadows</p>\n",
       "                        ...                 \n",
       "19326               <p>annie-rose-gibson</p>\n",
       "19327               <p>annie-rose-gibson</p>\n",
       "19328               <p>annie-rose-gibson</p>\n",
       "19329    <p>derek-edward-bartlett-twivey</p>\n",
       "19330                   <p>phillip-pratt</p>\n",
       "Name: short_name, Length: 19331, dtype: object"
      ]
     },
     "execution_count": 19,
     "metadata": {},
     "output_type": "execute_result"
    }
   ],
   "source": [
    "df['short_name']"
   ]
  },
  {
   "cell_type": "code",
   "execution_count": 20,
   "metadata": {},
   "outputs": [],
   "source": [
    "# https://www.judiciary.uk/prevention-of-future-death-reports/constance-pridmore/\n",
    "\n",
    "# https://www.judiciary.uk/prevention-of-future-death-reports/andrew-brown-prevention-of-future-deaths-report/"
   ]
  },
  {
   "cell_type": "code",
   "execution_count": 21,
   "metadata": {},
   "outputs": [],
   "source": [
    "df['url'] = 'https://www.judiciary.uk/prevention-of-future-death-reports/' + df['short_name'].astype(str) + '/'"
   ]
  },
  {
   "cell_type": "code",
   "execution_count": 22,
   "metadata": {},
   "outputs": [],
   "source": [
    "# clean up data (still contains html tags and duplicates) ? use soup.get_text() earlier\n",
    "# decide what to display and how\n",
    "# style with css"
   ]
  },
  {
   "cell_type": "code",
   "execution_count": 23,
   "metadata": {},
   "outputs": [],
   "source": [
    "# remove html tags\n",
    "df['date_of_report'] = df['date_of_report'].str.replace('<[^<]+?>', '')\n",
    "df['name_of_deceased'] = df['name_of_deceased'].str.replace('<[^<]+?>', '')\n",
    "df['coroner_name'] = df['coroner_name'].str.replace('<[^<]+?>', '')\n",
    "df['coroner_area'] = df['coroner_area'].str.replace('<[^<]+?>', '')\n",
    "df['url'] = df['url'].str.replace('<[^<]+?>', '')\n",
    "# remove duplicates\n",
    "df = df.drop_duplicates(subset='filename')"
   ]
  },
  {
   "cell_type": "code",
   "execution_count": 24,
   "metadata": {},
   "outputs": [],
   "source": [
    "del df['short_name']"
   ]
  },
  {
   "cell_type": "code",
   "execution_count": 25,
   "metadata": {},
   "outputs": [
    {
     "data": {
      "text/plain": [
       "'https://www.judiciary.uk/prevention-of-future-death-reports/dominic-noble/'"
      ]
     },
     "execution_count": 25,
     "metadata": {},
     "output_type": "execute_result"
    }
   ],
   "source": [
    "df['url'][0]"
   ]
  },
  {
   "cell_type": "code",
   "execution_count": 26,
   "metadata": {},
   "outputs": [],
   "source": [
    "df.to_json(\"data.json\", lines=True, orient=\"records\")"
   ]
  },
  {
   "cell_type": "code",
   "execution_count": 27,
   "metadata": {},
   "outputs": [
    {
     "data": {
      "text/plain": [
       "'https://www.judiciary.uk/prevention-of-future-death-reports/dominic-noble/'"
      ]
     },
     "execution_count": 27,
     "metadata": {},
     "output_type": "execute_result"
    }
   ],
   "source": [
    "df['url'][0]"
   ]
  },
  {
   "cell_type": "code",
   "execution_count": 28,
   "metadata": {},
   "outputs": [],
   "source": [
    "df['year_of_report'] = df['ref'].str[:4].astype(int)"
   ]
  },
  {
   "cell_type": "code",
   "execution_count": 29,
   "metadata": {},
   "outputs": [
    {
     "data": {
      "text/plain": [
       "0        2022-0204\n",
       "1        2022-0204\n",
       "2        2022-0203\n",
       "3        2022-0202\n",
       "4        2022-0201\n",
       "           ...    \n",
       "19326    2013-0171\n",
       "19327    2013-0171\n",
       "19328    2013-0171\n",
       "19329    2013-0175\n",
       "19330    2013-0174\n",
       "Name: ref, Length: 18451, dtype: object"
      ]
     },
     "execution_count": 29,
     "metadata": {},
     "output_type": "execute_result"
    }
   ],
   "source": [
    "df.ref"
   ]
  },
  {
   "cell_type": "code",
   "execution_count": 30,
   "metadata": {},
   "outputs": [
    {
     "data": {
      "text/plain": [
       "2022"
      ]
     },
     "execution_count": 30,
     "metadata": {},
     "output_type": "execute_result"
    }
   ],
   "source": [
    "df.year_of_report.max()"
   ]
  },
  {
   "cell_type": "code",
   "execution_count": 31,
   "metadata": {},
   "outputs": [
    {
     "data": {
      "text/plain": [
       "2013"
      ]
     },
     "execution_count": 31,
     "metadata": {},
     "output_type": "execute_result"
    }
   ],
   "source": [
    "df.year_of_report.min()"
   ]
  },
  {
   "cell_type": "code",
   "execution_count": 32,
   "metadata": {},
   "outputs": [
    {
     "data": {
      "text/plain": [
       "3655"
      ]
     },
     "execution_count": 32,
     "metadata": {},
     "output_type": "execute_result"
    }
   ],
   "source": [
    "df.name_of_deceased.nunique()"
   ]
  },
  {
   "cell_type": "code",
   "execution_count": 33,
   "metadata": {},
   "outputs": [
    {
     "data": {
      "text/html": [
       "<div>\n",
       "<style scoped>\n",
       "    .dataframe tbody tr th:only-of-type {\n",
       "        vertical-align: middle;\n",
       "    }\n",
       "\n",
       "    .dataframe tbody tr th {\n",
       "        vertical-align: top;\n",
       "    }\n",
       "\n",
       "    .dataframe thead th {\n",
       "        text-align: right;\n",
       "    }\n",
       "</style>\n",
       "<table border=\"1\" class=\"dataframe\">\n",
       "  <thead>\n",
       "    <tr style=\"text-align: right;\">\n",
       "      <th></th>\n",
       "      <th>person</th>\n",
       "      <th>date_of_report</th>\n",
       "      <th>ref</th>\n",
       "      <th>name_of_deceased</th>\n",
       "      <th>coroner_name</th>\n",
       "      <th>coroner_area</th>\n",
       "      <th>category</th>\n",
       "      <th>filename</th>\n",
       "      <th>text</th>\n",
       "      <th>url</th>\n",
       "      <th>year_of_report</th>\n",
       "    </tr>\n",
       "  </thead>\n",
       "  <tbody>\n",
       "    <tr>\n",
       "      <th>18062</th>\n",
       "      <td>nilsson-2013-0332</td>\n",
       "      <td>Date of report: 2 December 2013</td>\n",
       "      <td>2013-0332</td>\n",
       "      <td>Deceased name: Karl Olof Nilsson</td>\n",
       "      <td>Coroners name: Caroline Sarah Sumeray</td>\n",
       "      <td>Coroners Area: West Yorkshire (Western)</td>\n",
       "      <td>&lt;STRONG&gt;CATEGORY&lt;/STRONG&gt;: ROAD (HIGHWAYS SAFETY)</td>\n",
       "      <td>Nilsson+2013-0332.pdf.txt</td>\n",
       "      <td>\\n \\n\\n \\n \\n \\n \\n\\n \\n\\n \\n\\n \\n\\n \\n\\n \\n\\...</td>\n",
       "      <td>https://www.judiciary.uk/prevention-of-future-...</td>\n",
       "      <td>2013</td>\n",
       "    </tr>\n",
       "    <tr>\n",
       "      <th>18063</th>\n",
       "      <td>barton-2013-0330</td>\n",
       "      <td>Date of report: 6 December 2013</td>\n",
       "      <td>2013-0330</td>\n",
       "      <td>Deceased name: Keith Barton</td>\n",
       "      <td>Coroners name: Patricia Harding</td>\n",
       "      <td>Coroners Area: Mid Kent and Medway</td>\n",
       "      <td>&lt;STRONG&gt;CATEGORY&lt;/STRONG&gt;: CARE HOME HEALTH</td>\n",
       "      <td>2013-0330-Response-by-Life-Style-Care_page0.txt</td>\n",
       "      <td>LY-TIHK -cv14 UStD&gt;S From: lo? Seu rey4o14u Pa...</td>\n",
       "      <td>https://www.judiciary.uk/prevention-of-future-...</td>\n",
       "      <td>2013</td>\n",
       "    </tr>\n",
       "    <tr>\n",
       "      <th>18064</th>\n",
       "      <td>barton-2013-0330</td>\n",
       "      <td>Date of report: 6 December 2013</td>\n",
       "      <td>2013-0330</td>\n",
       "      <td>Deceased name: Keith Barton</td>\n",
       "      <td>Coroners name: Patricia Harding</td>\n",
       "      <td>Coroners Area: Mid Kent and Medway</td>\n",
       "      <td>&lt;STRONG&gt;CATEGORY&lt;/STRONG&gt;: CARE HOME HEALTH</td>\n",
       "      <td>2013-0330-Response-by-Life-Style-Care_page1.txt</td>\n",
       "      <td>\\n\\n{ met with SALT on 17 January 2014 in ord...</td>\n",
       "      <td>https://www.judiciary.uk/prevention-of-future-...</td>\n",
       "      <td>2013</td>\n",
       "    </tr>\n",
       "    <tr>\n",
       "      <th>18065</th>\n",
       "      <td>barton-2013-0330</td>\n",
       "      <td>Date of report: 6 December 2013</td>\n",
       "      <td>2013-0330</td>\n",
       "      <td>Deceased name: Keith Barton</td>\n",
       "      <td>Coroners name: Patricia Harding</td>\n",
       "      <td>Coroners Area: Mid Kent and Medway</td>\n",
       "      <td>&lt;STRONG&gt;CATEGORY&lt;/STRONG&gt;: CARE HOME HEALTH</td>\n",
       "      <td>2013-0330-Response-by-Life-Style-Care_page2.txt</td>\n",
       "      <td>ee ee 10; SucY fraS+b 1S Page:4~4\\n\\n \\n\\n| bo...</td>\n",
       "      <td>https://www.judiciary.uk/prevention-of-future-...</td>\n",
       "      <td>2013</td>\n",
       "    </tr>\n",
       "    <tr>\n",
       "      <th>18066</th>\n",
       "      <td>barton-2013-0330</td>\n",
       "      <td>Date of report: 6 December 2013</td>\n",
       "      <td>2013-0330</td>\n",
       "      <td>Deceased name: Keith Barton</td>\n",
       "      <td>Coroners name: Patricia Harding</td>\n",
       "      <td>Coroners Area: Mid Kent and Medway</td>\n",
       "      <td>&lt;STRONG&gt;CATEGORY&lt;/STRONG&gt;: CARE HOME HEALTH</td>\n",
       "      <td>2013-0330-Response-by-Life-Style-Care.pdf.txt</td>\n",
       "      <td></td>\n",
       "      <td>https://www.judiciary.uk/prevention-of-future-...</td>\n",
       "      <td>2013</td>\n",
       "    </tr>\n",
       "    <tr>\n",
       "      <th>...</th>\n",
       "      <td>...</td>\n",
       "      <td>...</td>\n",
       "      <td>...</td>\n",
       "      <td>...</td>\n",
       "      <td>...</td>\n",
       "      <td>...</td>\n",
       "      <td>...</td>\n",
       "      <td>...</td>\n",
       "      <td>...</td>\n",
       "      <td>...</td>\n",
       "      <td>...</td>\n",
       "    </tr>\n",
       "    <tr>\n",
       "      <th>19326</th>\n",
       "      <td>annie-rose-gibson</td>\n",
       "      <td>Date of report: 1 August 2013</td>\n",
       "      <td>2013-0171</td>\n",
       "      <td>Deceased name: Annie Rose Gibson</td>\n",
       "      <td>Coroners name: David Hinchcliff</td>\n",
       "      <td>Coroners Area: West Yorkshire (East)</td>\n",
       "      <td>CATEGORY: COMMUNITY HEALTH CARE AND EMERGENCY ...</td>\n",
       "      <td>Gibson-2013-01711_page1.txt</td>\n",
       "      <td>a daily basis by her family and home carers fr...</td>\n",
       "      <td>https://www.judiciary.uk/prevention-of-future-...</td>\n",
       "      <td>2013</td>\n",
       "    </tr>\n",
       "    <tr>\n",
       "      <th>19327</th>\n",
       "      <td>annie-rose-gibson</td>\n",
       "      <td>Date of report: 1 August 2013</td>\n",
       "      <td>2013-0171</td>\n",
       "      <td>Deceased name: Annie Rose Gibson</td>\n",
       "      <td>Coroners name: David Hinchcliff</td>\n",
       "      <td>Coroners Area: West Yorkshire (East)</td>\n",
       "      <td>CATEGORY: COMMUNITY HEALTH CARE AND EMERGENCY ...</td>\n",
       "      <td>Gibson-2013-01711_page2.txt</td>\n",
       "      <td>| enclose for a assistance the statements of y...</td>\n",
       "      <td>https://www.judiciary.uk/prevention-of-future-...</td>\n",
       "      <td>2013</td>\n",
       "    </tr>\n",
       "    <tr>\n",
       "      <th>19328</th>\n",
       "      <td>annie-rose-gibson</td>\n",
       "      <td>Date of report: 1 August 2013</td>\n",
       "      <td>2013-0171</td>\n",
       "      <td>Deceased name: Annie Rose Gibson</td>\n",
       "      <td>Coroners name: David Hinchcliff</td>\n",
       "      <td>Coroners Area: West Yorkshire (East)</td>\n",
       "      <td>CATEGORY: COMMUNITY HEALTH CARE AND EMERGENCY ...</td>\n",
       "      <td>Gibson-2013-01711.pdf.txt</td>\n",
       "      <td></td>\n",
       "      <td>https://www.judiciary.uk/prevention-of-future-...</td>\n",
       "      <td>2013</td>\n",
       "    </tr>\n",
       "    <tr>\n",
       "      <th>19329</th>\n",
       "      <td>derek-edward-bartlett-twivey</td>\n",
       "      <td>Date of report: 30 July 2013</td>\n",
       "      <td>2013-0175</td>\n",
       "      <td>Deceased name: Derek Edward Bartlett Twivey</td>\n",
       "      <td>Coroners name: Elisabeth Bussey-Jones</td>\n",
       "      <td>Coroners Area: West Sussex</td>\n",
       "      <td>CATEGORY: COMMUNITY HEALTH CARE AND EMERGENCY ...</td>\n",
       "      <td>Twivey-2013-0175.pdf.txt</td>\n",
       "      <td>Penelope A Schofield \\nSenior Coroner \\nCounty...</td>\n",
       "      <td>https://www.judiciary.uk/prevention-of-future-...</td>\n",
       "      <td>2013</td>\n",
       "    </tr>\n",
       "    <tr>\n",
       "      <th>19330</th>\n",
       "      <td>phillip-pratt</td>\n",
       "      <td>Date of report: 30 July 2013</td>\n",
       "      <td>2013-0174</td>\n",
       "      <td>Deceased name: Phillip Pratt</td>\n",
       "      <td>Coroners name: Elisabeth Bussey-Jones</td>\n",
       "      <td>Coroners Area: West Sussex</td>\n",
       "      <td>CATEGORY: HOSPITAL DEATH (CLINICAL PROCEDURES ...</td>\n",
       "      <td>Pratt-2013-0174.pdf.txt</td>\n",
       "      <td>Penelope A Schofield \\nSenior Coroner \\nCounty...</td>\n",
       "      <td>https://www.judiciary.uk/prevention-of-future-...</td>\n",
       "      <td>2013</td>\n",
       "    </tr>\n",
       "  </tbody>\n",
       "</table>\n",
       "<p>825 rows × 11 columns</p>\n",
       "</div>"
      ],
      "text/plain": [
       "                             person                   date_of_report  \\\n",
       "18062             nilsson-2013-0332  Date of report: 2 December 2013   \n",
       "18063              barton-2013-0330  Date of report: 6 December 2013   \n",
       "18064              barton-2013-0330  Date of report: 6 December 2013   \n",
       "18065              barton-2013-0330  Date of report: 6 December 2013   \n",
       "18066              barton-2013-0330  Date of report: 6 December 2013   \n",
       "...                             ...                              ...   \n",
       "19326             annie-rose-gibson    Date of report: 1 August 2013   \n",
       "19327             annie-rose-gibson    Date of report: 1 August 2013   \n",
       "19328             annie-rose-gibson    Date of report: 1 August 2013   \n",
       "19329  derek-edward-bartlett-twivey     Date of report: 30 July 2013   \n",
       "19330                 phillip-pratt     Date of report: 30 July 2013   \n",
       "\n",
       "             ref                             name_of_deceased  \\\n",
       "18062  2013-0332             Deceased name: Karl Olof Nilsson   \n",
       "18063  2013-0330                  Deceased name: Keith Barton   \n",
       "18064  2013-0330                  Deceased name: Keith Barton   \n",
       "18065  2013-0330                  Deceased name: Keith Barton   \n",
       "18066  2013-0330                  Deceased name: Keith Barton   \n",
       "...          ...                                          ...   \n",
       "19326  2013-0171             Deceased name: Annie Rose Gibson   \n",
       "19327  2013-0171             Deceased name: Annie Rose Gibson   \n",
       "19328  2013-0171             Deceased name: Annie Rose Gibson   \n",
       "19329  2013-0175  Deceased name: Derek Edward Bartlett Twivey   \n",
       "19330  2013-0174                 Deceased name: Phillip Pratt   \n",
       "\n",
       "                                coroner_name  \\\n",
       "18062  Coroners name: Caroline Sarah Sumeray   \n",
       "18063        Coroners name: Patricia Harding   \n",
       "18064        Coroners name: Patricia Harding   \n",
       "18065        Coroners name: Patricia Harding   \n",
       "18066        Coroners name: Patricia Harding   \n",
       "...                                      ...   \n",
       "19326        Coroners name: David Hinchcliff   \n",
       "19327        Coroners name: David Hinchcliff   \n",
       "19328        Coroners name: David Hinchcliff   \n",
       "19329  Coroners name: Elisabeth Bussey-Jones   \n",
       "19330  Coroners name: Elisabeth Bussey-Jones   \n",
       "\n",
       "                                  coroner_area  \\\n",
       "18062  Coroners Area: West Yorkshire (Western)   \n",
       "18063       Coroners Area: Mid Kent and Medway   \n",
       "18064       Coroners Area: Mid Kent and Medway   \n",
       "18065       Coroners Area: Mid Kent and Medway   \n",
       "18066       Coroners Area: Mid Kent and Medway   \n",
       "...                                        ...   \n",
       "19326     Coroners Area: West Yorkshire (East)   \n",
       "19327     Coroners Area: West Yorkshire (East)   \n",
       "19328     Coroners Area: West Yorkshire (East)   \n",
       "19329               Coroners Area: West Sussex   \n",
       "19330               Coroners Area: West Sussex   \n",
       "\n",
       "                                                category  \\\n",
       "18062  <STRONG>CATEGORY</STRONG>: ROAD (HIGHWAYS SAFETY)   \n",
       "18063        <STRONG>CATEGORY</STRONG>: CARE HOME HEALTH   \n",
       "18064        <STRONG>CATEGORY</STRONG>: CARE HOME HEALTH   \n",
       "18065        <STRONG>CATEGORY</STRONG>: CARE HOME HEALTH   \n",
       "18066        <STRONG>CATEGORY</STRONG>: CARE HOME HEALTH   \n",
       "...                                                  ...   \n",
       "19326  CATEGORY: COMMUNITY HEALTH CARE AND EMERGENCY ...   \n",
       "19327  CATEGORY: COMMUNITY HEALTH CARE AND EMERGENCY ...   \n",
       "19328  CATEGORY: COMMUNITY HEALTH CARE AND EMERGENCY ...   \n",
       "19329  CATEGORY: COMMUNITY HEALTH CARE AND EMERGENCY ...   \n",
       "19330  CATEGORY: HOSPITAL DEATH (CLINICAL PROCEDURES ...   \n",
       "\n",
       "                                              filename  \\\n",
       "18062                        Nilsson+2013-0332.pdf.txt   \n",
       "18063  2013-0330-Response-by-Life-Style-Care_page0.txt   \n",
       "18064  2013-0330-Response-by-Life-Style-Care_page1.txt   \n",
       "18065  2013-0330-Response-by-Life-Style-Care_page2.txt   \n",
       "18066    2013-0330-Response-by-Life-Style-Care.pdf.txt   \n",
       "...                                                ...   \n",
       "19326                      Gibson-2013-01711_page1.txt   \n",
       "19327                      Gibson-2013-01711_page2.txt   \n",
       "19328                        Gibson-2013-01711.pdf.txt   \n",
       "19329                         Twivey-2013-0175.pdf.txt   \n",
       "19330                          Pratt-2013-0174.pdf.txt   \n",
       "\n",
       "                                                    text  \\\n",
       "18062   \\n \\n\\n \\n \\n \\n \\n\\n \\n\\n \\n\\n \\n\\n \\n\\n \\n\\...   \n",
       "18063  LY-TIHK -cv14 UStD>S From: lo? Seu rey4o14u Pa...   \n",
       "18064   \\n\\n{ met with SALT on 17 January 2014 in ord...   \n",
       "18065  ee ee 10; SucY fraS+b 1S Page:4~4\\n\\n \\n\\n| bo...   \n",
       "18066                                                \n",
       "\n",
       "\n",
       "   \n",
       "...                                                  ...   \n",
       "19326  a daily basis by her family and home carers fr...   \n",
       "19327  | enclose for a assistance the statements of y...   \n",
       "19328                                                \n",
       "\n",
       "\n",
       "   \n",
       "19329  Penelope A Schofield \\nSenior Coroner \\nCounty...   \n",
       "19330  Penelope A Schofield \\nSenior Coroner \\nCounty...   \n",
       "\n",
       "                                                     url  year_of_report  \n",
       "18062  https://www.judiciary.uk/prevention-of-future-...            2013  \n",
       "18063  https://www.judiciary.uk/prevention-of-future-...            2013  \n",
       "18064  https://www.judiciary.uk/prevention-of-future-...            2013  \n",
       "18065  https://www.judiciary.uk/prevention-of-future-...            2013  \n",
       "18066  https://www.judiciary.uk/prevention-of-future-...            2013  \n",
       "...                                                  ...             ...  \n",
       "19326  https://www.judiciary.uk/prevention-of-future-...            2013  \n",
       "19327  https://www.judiciary.uk/prevention-of-future-...            2013  \n",
       "19328  https://www.judiciary.uk/prevention-of-future-...            2013  \n",
       "19329  https://www.judiciary.uk/prevention-of-future-...            2013  \n",
       "19330  https://www.judiciary.uk/prevention-of-future-...            2013  \n",
       "\n",
       "[825 rows x 11 columns]"
      ]
     },
     "execution_count": 33,
     "metadata": {},
     "output_type": "execute_result"
    }
   ],
   "source": [
    "df[df.year_of_report == 2013]"
   ]
  },
  {
   "cell_type": "code",
   "execution_count": 34,
   "metadata": {},
   "outputs": [
    {
     "data": {
      "text/plain": [
       "Deceased name: Terence O’Connell              45\n",
       "Deceased name: Elena Wells                    37\n",
       "Deceased name: Vhari Ingall                   36\n",
       "Deceased name: Alex Kelly                     34\n",
       "Deceased name: Santosh Muthiah                33\n",
       "                                              ..\n",
       "Deceased name: Robert Anstice                  1\n",
       "Deceased name: Herbert Chandler                1\n",
       "Deceased name: Peter Patrick Adrian Barnes     1\n",
       "Deceased name: Thaker Hafid                    1\n",
       "Deceased name: Jane Dyson Gabbitas             1\n",
       "Name: name_of_deceased, Length: 3655, dtype: int64"
      ]
     },
     "execution_count": 34,
     "metadata": {},
     "output_type": "execute_result"
    }
   ],
   "source": [
    "df.name_of_deceased.value_counts()"
   ]
  },
  {
   "cell_type": "code",
   "execution_count": 35,
   "metadata": {},
   "outputs": [
    {
     "data": {
      "text/plain": [
       "Index(['person', 'date_of_report', 'ref', 'name_of_deceased', 'coroner_name',\n",
       "       'coroner_area', 'category', 'filename', 'text', 'url',\n",
       "       'year_of_report'],\n",
       "      dtype='object')"
      ]
     },
     "execution_count": 35,
     "metadata": {},
     "output_type": "execute_result"
    }
   ],
   "source": [
    "df.columns"
   ]
  },
  {
   "cell_type": "code",
   "execution_count": 36,
   "metadata": {},
   "outputs": [],
   "source": [
    "jam = df[df.text.str.upper().str.contains('CHEST DRAIN')]"
   ]
  },
  {
   "cell_type": "code",
   "execution_count": 37,
   "metadata": {},
   "outputs": [
    {
     "data": {
      "text/plain": [
       "array(['2021-0276', '2020-0281', '2020-0145', '2019-0343', '2017-0013',\n",
       "       '2016-0258', '2016-0491', '2015-0135', '2014-0570', '2014-0355',\n",
       "       '2013-0327', '2013-0308', '2013-0244', '2013-0271'], dtype=object)"
      ]
     },
     "execution_count": 37,
     "metadata": {},
     "output_type": "execute_result"
    }
   ],
   "source": [
    "jam.ref.unique()"
   ]
  },
  {
   "cell_type": "code",
   "execution_count": null,
   "metadata": {},
   "outputs": [],
   "source": []
  }
 ],
 "metadata": {
  "kernelspec": {
   "display_name": "Python 3",
   "language": "python",
   "name": "python3"
  },
  "language_info": {
   "codemirror_mode": {
    "name": "ipython",
    "version": 3
   },
   "file_extension": ".py",
   "mimetype": "text/x-python",
   "name": "python",
   "nbconvert_exporter": "python",
   "pygments_lexer": "ipython3",
   "version": "3.6.12"
  }
 },
 "nbformat": 4,
 "nbformat_minor": 4
}
